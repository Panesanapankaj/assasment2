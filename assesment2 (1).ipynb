{
 "cells": [
  {
   "cell_type": "code",
   "execution_count": 1,
   "id": "dfb2b6cf-7efa-40f6-88c3-252eb02e2426",
   "metadata": {},
   "outputs": [],
   "source": [
    "#1.How do you comment code in Python? What are the different types of comments?"
   ]
  },
  {
   "cell_type": "code",
   "execution_count": 2,
   "id": "64219e79-1181-4954-9ede-c13d5ae6a800",
   "metadata": {},
   "outputs": [
    {
     "name": "stdout",
     "output_type": "stream",
     "text": [
      "Hello, World!\n"
     ]
    }
   ],
   "source": [
    "print(\"Hello, World!\")  # This is a singal line comment."
   ]
  },
  {
   "cell_type": "code",
   "execution_count": 81,
   "id": "ed852e7f-6e05-4de5-81ac-d42e0e7356ca",
   "metadata": {},
   "outputs": [
    {
     "data": {
      "text/plain": [
       "' My name is panesana \\nMy father name is xyz '"
      ]
     },
     "execution_count": 81,
     "metadata": {},
     "output_type": "execute_result"
    }
   ],
   "source": [
    "# Another way to write multi-line comments.\n",
    "''' My name is panesana \n",
    "My father name is xyz '''"
   ]
  },
  {
   "cell_type": "code",
   "execution_count": 82,
   "id": "6ba5fbb1-9844-4ac7-be2c-4d0a2cb1c83b",
   "metadata": {},
   "outputs": [
    {
     "data": {
      "text/plain": [
       "' I have alredy enrolled data scince \\n2.O pwskills corse'"
      ]
     },
     "execution_count": 82,
     "metadata": {},
     "output_type": "execute_result"
    }
   ],
   "source": [
    "\"\"\" I have alredy enrolled data scince \n",
    "2.O pwskills corse\"\"\""
   ]
  },
  {
   "cell_type": "code",
   "execution_count": 4,
   "id": "89a0746c-6b06-409c-be35-a70e5d91fc04",
   "metadata": {},
   "outputs": [],
   "source": [
    "# Initialize the variable \n",
    "x = 10 "
   ]
  },
  {
   "cell_type": "code",
   "execution_count": null,
   "id": "9df8a605-de13-43ba-8549-fa28356f0952",
   "metadata": {},
   "outputs": [],
   "source": [
    "#2.What are variables in Python? How do you declare and assign values to variables?"
   ]
  },
  {
   "cell_type": "code",
   "execution_count": 5,
   "id": "f7283835-51db-4c2a-adb5-21c61459ced5",
   "metadata": {},
   "outputs": [],
   "source": [
    "\n",
    "a = 30 # Integer variable\n",
    "\n",
    "a = \"John Doe\" # String variable\n",
    "\n",
    "l = [1, 2, 3, 4, 5] # List variab\n",
    "\n",
    "t = (10, 20) # Tuple variable\n",
    "\n",
    "d = {\"name\": \"Alice\", \"age\": 25} # Dictionary variable"
   ]
  },
  {
   "cell_type": "code",
   "execution_count": 6,
   "id": "1bdd5a6a-701f-41a0-8eab-b139af18b700",
   "metadata": {},
   "outputs": [],
   "source": [
    "#3.How do you convert one data type to another in Python?"
   ]
  },
  {
   "cell_type": "code",
   "execution_count": 12,
   "id": "accd7d69-31c4-4e0a-b5e3-6157ab260c84",
   "metadata": {},
   "outputs": [
    {
     "name": "stdout",
     "output_type": "stream",
     "text": [
      "42\n"
     ]
    }
   ],
   "source": [
    "num = \"42\"\n",
    "num_str = str(num)\n",
    "print(num_str)  "
   ]
  },
  {
   "cell_type": "code",
   "execution_count": 13,
   "id": "6f4a4299-937b-4a7b-b80b-b8e1b959d671",
   "metadata": {},
   "outputs": [],
   "source": [
    "l = {\"pwskills\" , \"pankaj\" ,\"panesana\"}"
   ]
  },
  {
   "cell_type": "code",
   "execution_count": 19,
   "id": "65babba2-d65e-4c18-b9e1-06dbf9311141",
   "metadata": {},
   "outputs": [
    {
     "name": "stdout",
     "output_type": "stream",
     "text": [
      "None\n"
     ]
    }
   ],
   "source": [
    "print(l.append(3))"
   ]
  },
  {
   "cell_type": "code",
   "execution_count": 20,
   "id": "26ce6fbf-6855-4538-8cd2-c864cac661b3",
   "metadata": {},
   "outputs": [
    {
     "data": {
      "text/plain": [
       "['pwskills', 'pankaj', 'panesana', 3]"
      ]
     },
     "execution_count": 20,
     "metadata": {},
     "output_type": "execute_result"
    }
   ],
   "source": [
    "l"
   ]
  },
  {
   "cell_type": "code",
   "execution_count": null,
   "id": "ce32ec98-87f5-4574-8c62-0f684a534a57",
   "metadata": {},
   "outputs": [],
   "source": [
    "#4.How do you write and execute a Python script from the command line?"
   ]
  },
  {
   "cell_type": "code",
   "execution_count": null,
   "id": "1bfa7036-da21-4b71-83e4-223e49892029",
   "metadata": {},
   "outputs": [],
   "source": [
    "myscript.py"
   ]
  },
  {
   "cell_type": "code",
   "execution_count": null,
   "id": "e8d86f88-b33b-45d7-8daa-7c27ac8f2080",
   "metadata": {},
   "outputs": [],
   "source": [
    "#5.Given a list my_list = [1, 2, 3, 4, 5], write the code to slice the list and obtain the sub-list [2, 3]."
   ]
  },
  {
   "cell_type": "code",
   "execution_count": 22,
   "id": "4e6dfaa2-5bf4-4e82-ad32-202f94ac68fd",
   "metadata": {},
   "outputs": [
    {
     "name": "stdout",
     "output_type": "stream",
     "text": [
      "[2, 3]\n"
     ]
    }
   ],
   "source": [
    "my_list = [1, 2, 3, 4, 5]\n",
    "sub_list = my_list[1:3]\n",
    "print(sub_list)  "
   ]
  },
  {
   "cell_type": "code",
   "execution_count": null,
   "id": "8788ac45-0695-489f-a097-eddd9dc30e87",
   "metadata": {},
   "outputs": [],
   "source": [
    "#6.What is a complex number in mathematics, and how is it represented in Python?"
   ]
  },
  {
   "cell_type": "code",
   "execution_count": 26,
   "id": "014874e3-9ca0-4827-a0d5-c0928263d717",
   "metadata": {},
   "outputs": [],
   "source": [
    "a = 3+5j"
   ]
  },
  {
   "cell_type": "code",
   "execution_count": 27,
   "id": "8b9b3b70-d5e4-4842-a7f3-4691c10b9e9b",
   "metadata": {},
   "outputs": [],
   "source": [
    "b = 5-7j"
   ]
  },
  {
   "cell_type": "code",
   "execution_count": 28,
   "id": "c4e28f28-6108-4cd0-8b87-c9be95e424ab",
   "metadata": {},
   "outputs": [],
   "source": [
    "#7.What is the correct way to declare a variable named age and assign the value 25 to it?"
   ]
  },
  {
   "cell_type": "code",
   "execution_count": 32,
   "id": "e52be1af-20d8-498b-9eb9-fbeb6eeca8bf",
   "metadata": {},
   "outputs": [],
   "source": [
    "age = 25"
   ]
  },
  {
   "cell_type": "code",
   "execution_count": 33,
   "id": "20926952-6308-4d1d-96fe-8b2c6de62478",
   "metadata": {},
   "outputs": [
    {
     "name": "stdout",
     "output_type": "stream",
     "text": [
      "my age is 25\n"
     ]
    }
   ],
   "source": [
    "print(\"my age is\",age)"
   ]
  },
  {
   "cell_type": "code",
   "execution_count": 34,
   "id": "009fa62d-02fc-430e-9f72-49d7922b3879",
   "metadata": {},
   "outputs": [],
   "source": [
    "#8.Declare a variable named price and assign the value 9.99 to it. What data type does this variable belong to?"
   ]
  },
  {
   "cell_type": "code",
   "execution_count": 36,
   "id": "4c24598e-ec1b-47ed-9efe-02a8bb1e7161",
   "metadata": {},
   "outputs": [],
   "source": [
    "a = 9.99 #This variable is \"flaot\""
   ]
  },
  {
   "cell_type": "code",
   "execution_count": 37,
   "id": "1ff96e48-04b5-4a43-a9fc-accc47811387",
   "metadata": {},
   "outputs": [],
   "source": [
    "#9.Create a variable named name and assign your full name to it as a string. How would you print thevalue of this variable?"
   ]
  },
  {
   "cell_type": "code",
   "execution_count": 38,
   "id": "6282f580-673a-4f9c-9ee9-4f084fef717d",
   "metadata": {},
   "outputs": [],
   "source": [
    "name = \"pankaj_panesana\""
   ]
  },
  {
   "cell_type": "code",
   "execution_count": 42,
   "id": "4dcc36ad-c9d7-450a-926d-7afac01f0b88",
   "metadata": {},
   "outputs": [
    {
     "name": "stdout",
     "output_type": "stream",
     "text": [
      "pankaj_panesana\n"
     ]
    }
   ],
   "source": [
    "print(name)"
   ]
  },
  {
   "cell_type": "code",
   "execution_count": 43,
   "id": "2ab8f793-712d-41db-b1dc-200117b5fa0a",
   "metadata": {},
   "outputs": [],
   "source": [
    "#10.Given the string \"Hello, World!\", extract the substring \"World\"."
   ]
  },
  {
   "cell_type": "code",
   "execution_count": 57,
   "id": "5cf45f50-be9c-482b-9d99-aab68f3a0714",
   "metadata": {},
   "outputs": [
    {
     "name": "stdout",
     "output_type": "stream",
     "text": [
      "world!\n"
     ]
    }
   ],
   "source": [
    "str = \"hello,world!\"\n",
    "str = str[6:]\n",
    "print(str)"
   ]
  },
  {
   "cell_type": "code",
   "execution_count": 58,
   "id": "61fff59a-7271-45d2-bb41-256642d804c8",
   "metadata": {},
   "outputs": [],
   "source": [
    "#11.Create a variable named \"is_student\" and assign it a boolean value indicating whether you arecurrently a student or not."
   ]
  },
  {
   "cell_type": "code",
   "execution_count": 66,
   "id": "89ac78f5-8505-4856-b7a9-26c4f5e0f3cc",
   "metadata": {},
   "outputs": [
    {
     "data": {
      "text/plain": [
       "(False, True)"
      ]
     },
     "execution_count": 66,
     "metadata": {},
     "output_type": "execute_result"
    }
   ],
   "source": [
    "\"is_studend\" == \"pankaj\",True"
   ]
  },
  {
   "cell_type": "code",
   "execution_count": 68,
   "id": "56754f6d-213b-442e-8f2a-2cc3f14262cd",
   "metadata": {},
   "outputs": [
    {
     "data": {
      "text/plain": [
       "False"
      ]
     },
     "execution_count": 68,
     "metadata": {},
     "output_type": "execute_result"
    }
   ],
   "source": [
    "\"is_student\" == True"
   ]
  },
  {
   "cell_type": "code",
   "execution_count": 69,
   "id": "a8b20108-311a-41be-b6a8-c7d7ed49fd8d",
   "metadata": {},
   "outputs": [
    {
     "data": {
      "text/plain": [
       "False"
      ]
     },
     "execution_count": 69,
     "metadata": {},
     "output_type": "execute_result"
    }
   ],
   "source": [
    "\"is_studend\" == False"
   ]
  },
  {
   "cell_type": "code",
   "execution_count": null,
   "id": "69014a01-b8e9-4211-ab4c-db7dab712169",
   "metadata": {},
   "outputs": [],
   "source": []
  }
 ],
 "metadata": {
  "kernelspec": {
   "display_name": "Python 3 (ipykernel)",
   "language": "python",
   "name": "python3"
  },
  "language_info": {
   "codemirror_mode": {
    "name": "ipython",
    "version": 3
   },
   "file_extension": ".py",
   "mimetype": "text/x-python",
   "name": "python",
   "nbconvert_exporter": "python",
   "pygments_lexer": "ipython3",
   "version": "3.10.8"
  }
 },
 "nbformat": 4,
 "nbformat_minor": 5
}
